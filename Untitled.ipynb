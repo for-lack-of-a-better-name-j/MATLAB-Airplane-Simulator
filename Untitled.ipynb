{
 "cells": [
  {
   "cell_type": "code",
   "execution_count": 1,
   "id": "3a1df407-ef22-48b8-9ee2-5fff6ba8d4e5",
   "metadata": {},
   "outputs": [],
   "source": [
    "import sympy as sp"
   ]
  },
  {
   "cell_type": "code",
   "execution_count": 2,
   "id": "4bd00b9d-7283-42b4-8a96-448fb1685482",
   "metadata": {},
   "outputs": [],
   "source": [
    "sp.init_printing()"
   ]
  },
  {
   "cell_type": "code",
   "execution_count": 3,
   "id": "ed1a3ffd-7fce-4982-b71f-c4ffcff67f7b",
   "metadata": {},
   "outputs": [],
   "source": [
    "Jxx = sp.Symbol(\"Jxx\")\n",
    "Jyy = sp.Symbol(\"Jyy\")\n",
    "Jzz = sp.Symbol(\"Jzz\")\n",
    "Jxy = sp.Symbol(\"Jxy\")\n",
    "Jxz = sp.Symbol(\"Jxz\")\n",
    "Jyz = sp.Symbol(\"Jyz\")\n"
   ]
  },
  {
   "cell_type": "code",
   "execution_count": 5,
   "id": "634eed6b-dd53-4f4f-aeb5-76f3560bcc20",
   "metadata": {},
   "outputs": [
    {
     "data": {
      "image/png": "[encoded data removed]",
      "text/latex": [
       "$\\displaystyle \\left[\\begin{matrix}\\frac{Jyy Jzz}{Jxx Jyy Jzz - Jxz^{2} Jyy} & 0 & \\frac{Jyy Jzz}{Jxx Jyy Jzz - Jxz^{2} Jyy}\\\\0 & \\frac{Jxx Jzz - Jxz^{2}}{Jxx Jyy Jzz - Jxz^{2} Jyy} & 0\\\\\\frac{Jxz Jyy}{Jxx Jyy Jzz - Jxz^{2} Jyy} & 0 & \\frac{Jxx Jyy}{Jxx Jyy Jzz - Jxz^{2} Jyy}\\end{matrix}\\right]$"
      ],
      "text/plain": [
       "⎡       Jyy⋅Jzz                                         Jyy⋅Jzz        ⎤\n",
       "⎢──────────────────────            0             ──────────────────────⎥\n",
       "⎢                 2                                               2    ⎥\n",
       "⎢Jxx⋅Jyy⋅Jzz - Jxz ⋅Jyy                          Jxx⋅Jyy⋅Jzz - Jxz ⋅Jyy⎥\n",
       "⎢                                                                      ⎥\n",
       "⎢                                         2                            ⎥\n",
       "⎢                            Jxx⋅Jzz - Jxz                             ⎥\n",
       "⎢          0             ──────────────────────            0           ⎥\n",
       "⎢                                         2                            ⎥\n",
       "⎢                        Jxx⋅Jyy⋅Jzz - Jxz ⋅Jyy                        ⎥\n",
       "⎢                                                                      ⎥\n",
       "⎢       Jxz⋅Jyy                                         Jxx⋅Jyy        ⎥\n",
       "⎢──────────────────────            0             ──────────────────────⎥\n",
       "⎢                 2                                               2    ⎥\n",
       "⎣Jxx⋅Jyy⋅Jzz - Jxz ⋅Jyy                          Jxx⋅Jyy⋅Jzz - Jxz ⋅Jyy⎦"
      ]
     },
     "execution_count": 5,
     "metadata": {},
     "output_type": "execute_result"
    }
   ],
   "source": [
    "J = (1/(Jxx*Jyy*Jzz-Jyy*Jxz**2))*sp.Matrix([\n",
    "    [Jyy*Jzz, 0, Jyy*Jzz],\n",
    "    [0, Jxx*Jzz-Jxz**2, 0],\n",
    "    [Jyy*Jxz, 0, Jxx*Jyy]\n",
    "])\n",
    "J"
   ]
  },
  {
   "cell_type": "code",
   "execution_count": null,
   "id": "0067fa53-1227-41e5-baf8-9d16d6a0c461",
   "metadata": {},
   "outputs": [],
   "source": []
  }
 ],
 "metadata": {
  "kernelspec": {
   "display_name": "Python 3 (ipykernel)",
   "language": "python",
   "name": "python3"
  },
  "language_info": {
   "codemirror_mode": {
    "name": "ipython",
    "version": 3
   },
   "file_extension": ".py",
   "mimetype": "text/x-python",
   "name": "python",
   "nbconvert_exporter": "python",
   "pygments_lexer": "ipython3",
   "version": "3.13.2"
  }
 },
 "nbformat": 4,
 "nbformat_minor": 5
}
